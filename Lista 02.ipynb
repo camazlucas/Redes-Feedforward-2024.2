{
 "cells": [
  {
   "cell_type": "code",
   "execution_count": 241,
   "metadata": {},
   "outputs": [],
   "source": [
    "import numpy as np"
   ]
  },
  {
   "cell_type": "markdown",
   "metadata": {},
   "source": [
    "Questão 1.1"
   ]
  },
  {
   "cell_type": "code",
   "execution_count": 242,
   "metadata": {},
   "outputs": [],
   "source": [
    "w1 = 1\n",
    "w2 = 1\n",
    "w3 = 1\n",
    "w4 = 1"
   ]
  },
  {
   "cell_type": "code",
   "execution_count": 243,
   "metadata": {},
   "outputs": [],
   "source": [
    "def ytil1 (x1, x2):\n",
    "    y = w1*np.exp(-1*w2*(x1**2)) + w3*np.log(x2+1)\n",
    "    return y"
   ]
  },
  {
   "cell_type": "code",
   "execution_count": 244,
   "metadata": {},
   "outputs": [],
   "source": [
    "def ytil2 (x1, x2):\n",
    "    y = w3*(x1**2) + w4 + 0*x2\n",
    "    return y"
   ]
  },
  {
   "cell_type": "code",
   "execution_count": 245,
   "metadata": {},
   "outputs": [
    {
     "data": {
      "text/plain": [
       "array([[0.  , 1.  ],\n",
       "       [0.83, 2.2 ],\n",
       "       [0.83, 1.  ],\n",
       "       [0.  , 2.2 ]])"
      ]
     },
     "execution_count": 245,
     "metadata": {},
     "output_type": "execute_result"
    }
   ],
   "source": [
    "lotes_entradas = np.array([(0,0),(1,1),(0, 1), (1,0)])\n",
    "lotes_saidas = np.array([(0,1), (0.83, 2.2), (0.83, 1), (0,2.2)])\n",
    "lotes_entradas\n",
    "lotes_saidas"
   ]
  },
  {
   "cell_type": "markdown",
   "metadata": {},
   "source": [
    "Rodando as entradas"
   ]
  },
  {
   "cell_type": "code",
   "execution_count": 246,
   "metadata": {},
   "outputs": [
    {
     "name": "stdout",
     "output_type": "stream",
     "text": [
      "[np.float64(1.0), np.int64(1)]\n",
      "[np.float64(1.0610266217313877), np.int64(2)]\n",
      "[np.float64(1.6931471805599454), np.int64(1)]\n",
      "[np.float64(0.36787944117144233), np.int64(2)]\n"
     ]
    }
   ],
   "source": [
    "saidas = [None] * len(lotes_entradas)\n",
    "for i in range(len(lotes_entradas)):\n",
    "    saidas[i] = [ytil1(lotes_entradas[i][0],lotes_entradas[i][1]), ytil2(lotes_entradas[i][0],lotes_entradas[i][1])]\n",
    "    print(saidas[i])\n"
   ]
  },
  {
   "cell_type": "markdown",
   "metadata": {},
   "source": [
    "Calculando as diferenças"
   ]
  },
  {
   "cell_type": "code",
   "execution_count": 247,
   "metadata": {},
   "outputs": [
    {
     "data": {
      "text/plain": [
       "array([[ 1.        ,  0.        ],\n",
       "       [ 0.23102662, -0.2       ],\n",
       "       [ 0.86314718,  0.        ],\n",
       "       [ 0.36787944, -0.2       ]])"
      ]
     },
     "execution_count": 247,
     "metadata": {},
     "output_type": "execute_result"
    }
   ],
   "source": [
    "erro = saidas - lotes_saidas\n",
    "erro"
   ]
  },
  {
   "cell_type": "markdown",
   "metadata": {},
   "source": [
    "Calculado F(w)"
   ]
  },
  {
   "cell_type": "code",
   "execution_count": 248,
   "metadata": {},
   "outputs": [
    {
     "name": "stdout",
     "output_type": "stream",
     "text": [
      "[9. 0.]\n",
      "[0.40548822 0.30388844]\n",
      "[5.66009737 0.        ]\n",
      "[1.21801755 0.36      ]\n"
     ]
    },
    {
     "data": {
      "text/plain": [
       "array([4.07090079, 0.16597211])"
      ]
     },
     "execution_count": 248,
     "metadata": {},
     "output_type": "execute_result"
    }
   ],
   "source": [
    "fw = np.array([None] * len(erro))\n",
    "for i in range(len(fw)):\n",
    "    fw[i] = 2*(erro[i]/(lotes_saidas[i][0] + 1))**2 + 7*(erro[i])**2\n",
    "    print(fw[i])\n",
    "media_fw = np.mean(fw)\n",
    "media_fw"
   ]
  },
  {
   "cell_type": "code",
   "execution_count": 249,
   "metadata": {},
   "outputs": [],
   "source": [
    "def deltaw1(A):\n",
    "    y = (-4*(erro[A][0]/((lotes_saidas[A][0] +1)**2))*np.exp(-w2*(lotes_entradas[A][0])**2))/2\n",
    "    return y"
   ]
  },
  {
   "cell_type": "code",
   "execution_count": 250,
   "metadata": {},
   "outputs": [],
   "source": [
    "def deltaw2(A):\n",
    "    y = (-4*(erro[A][0]/((lotes_saidas[A][0] +1)**2))*w1*np.exp(-w2*((lotes_entradas[A][1])**2))*(-(lotes_entradas[A][1])**2))/2\n",
    "    return y"
   ]
  },
  {
   "cell_type": "code",
   "execution_count": 251,
   "metadata": {},
   "outputs": [],
   "source": [
    "def deltaw3(A): \n",
    "    y = (-4*(erro[A][0]/((lotes_saidas[A][0] +1)**2))*np.log(lotes_entradas[A][1]+1) + -14*(erro[A][1])*((lotes_entradas[A][1])**2))/2\n",
    "    return y"
   ]
  },
  {
   "cell_type": "code",
   "execution_count": 252,
   "metadata": {},
   "outputs": [],
   "source": [
    "def deltaw4(A): \n",
    "    y = -14*(erro[A][1])/2\n",
    "    return y"
   ]
  },
  {
   "cell_type": "markdown",
   "metadata": {},
   "source": [
    "Calculando  todos os Novos w"
   ]
  },
  {
   "cell_type": "code",
   "execution_count": 253,
   "metadata": {},
   "outputs": [
    {
     "name": "stdout",
     "output_type": "stream",
     "text": [
      "0.9729329433526774\n",
      "1.0\n",
      "1.0\n",
      "1.1400000000000001\n"
     ]
    }
   ],
   "source": [
    "A = 3\n",
    "alfa = 0.1\n",
    "w1novo = w1 + alfa*deltaw1(A)\n",
    "w2novo = w2 + alfa*deltaw2(A)\n",
    "w3novo = w3 + alfa*deltaw3(A)\n",
    "w4novo = w4 + alfa*deltaw4(A)\n",
    "print(w1novo)\n",
    "print(w2novo)\n",
    "print(w3novo)\n",
    "print(w4novo)"
   ]
  },
  {
   "cell_type": "code",
   "execution_count": 254,
   "metadata": {},
   "outputs": [
    {
     "name": "stdout",
     "output_type": "stream",
     "text": [
      "0.9729329433526774\n",
      "1.0\n",
      "1.0\n",
      "1.1400000000000001\n"
     ]
    }
   ],
   "source": [
    "w1 = w1novo\n",
    "w2 = w2novo\n",
    "w3 = w3novo\n",
    "w4 = w4novo\n",
    "print(w1)\n",
    "print(w2)\n",
    "print(w3)\n",
    "print(w4)"
   ]
  },
  {
   "cell_type": "markdown",
   "metadata": {},
   "source": [
    "Atualizando"
   ]
  },
  {
   "cell_type": "code",
   "execution_count": 255,
   "metadata": {},
   "outputs": [
    {
     "name": "stdout",
     "output_type": "stream",
     "text": [
      "0.9729329433526774\n",
      "1.0\n",
      "1.0\n",
      "1.1400000000000001\n"
     ]
    }
   ],
   "source": [
    "print(w1)\n",
    "print(w2)\n",
    "print(w3)\n",
    "print(w4)\n"
   ]
  },
  {
   "cell_type": "code",
   "execution_count": 256,
   "metadata": {},
   "outputs": [
    {
     "name": "stdout",
     "output_type": "stream",
     "text": [
      "[np.float64(0.9729329433526774), np.float64(1.1400000000000001)]\n",
      "[np.float64(1.0510692080578148), np.float64(2.14)]\n",
      "[np.float64(1.6660801239126228), np.float64(1.1400000000000001)]\n",
      "[np.float64(0.35792202749786955), np.float64(2.14)]\n"
     ]
    }
   ],
   "source": [
    "saidas = [None] * len(lotes_entradas)\n",
    "for i in range(len(lotes_entradas)):\n",
    "    saidas[i] = [ytil1(lotes_entradas[i][0],lotes_entradas[i][1]), ytil2(lotes_entradas[i][0],lotes_entradas[i][1])]\n",
    "    print(saidas[i])"
   ]
  },
  {
   "cell_type": "code",
   "execution_count": 257,
   "metadata": {},
   "outputs": [
    {
     "data": {
      "text/plain": [
       "array([[ 0.97293294,  0.14      ],\n",
       "       [ 0.22106921, -0.06      ],\n",
       "       [ 0.83608012,  0.14      ],\n",
       "       [ 0.35792203, -0.06      ]])"
      ]
     },
     "execution_count": 257,
     "metadata": {},
     "output_type": "execute_result"
    }
   ],
   "source": [
    "erro = saidas - lotes_saidas\n",
    "erro"
   ]
  },
  {
   "cell_type": "code",
   "execution_count": 258,
   "metadata": {},
   "outputs": [
    {
     "name": "stdout",
     "output_type": "stream",
     "text": [
      "[8.51938661 0.1764    ]\n",
      "[0.37128782 0.02734996]\n",
      "[5.31067822 0.14890534]\n",
      "[1.1529736 0.0324   ]\n"
     ]
    },
    {
     "data": {
      "text/plain": [
       "array([3.83858156, 0.09626382])"
      ]
     },
     "execution_count": 258,
     "metadata": {},
     "output_type": "execute_result"
    }
   ],
   "source": [
    "fw = np.array([None] * len(erro))\n",
    "for i in range(len(fw)):\n",
    "    fw[i] = 2*(erro[i]/(lotes_saidas[i][0] + 1))**2 + 7*(erro[i])**2\n",
    "    print(fw[i])\n",
    "media_fw = np.mean(fw)\n",
    "media_fw"
   ]
  },
  {
   "cell_type": "code",
   "execution_count": 259,
   "metadata": {},
   "outputs": [
    {
     "name": "stdout",
     "output_type": "stream",
     "text": [
      "0.920264081169131\n",
      "1.0\n",
      "1.0\n",
      "1.2240000000000002\n"
     ]
    }
   ],
   "source": [
    "A = 3\n",
    "alfa = 0.2\n",
    "w1novo = w1 + alfa*deltaw1(A)\n",
    "w2novo = w2 + alfa*deltaw2(A)\n",
    "w3novo = w3 + alfa*deltaw3(A)\n",
    "w4novo = w4 + alfa*deltaw4(A)\n",
    "print(w1novo)\n",
    "print(w2novo)\n",
    "print(w3novo)\n",
    "print(w4novo)"
   ]
  },
  {
   "cell_type": "code",
   "execution_count": 260,
   "metadata": {},
   "outputs": [
    {
     "name": "stdout",
     "output_type": "stream",
     "text": [
      "0.920264081169131\n",
      "1.0\n",
      "1.0\n",
      "1.2240000000000002\n"
     ]
    }
   ],
   "source": [
    "w1 = w1novo\n",
    "w2 = w2novo\n",
    "w3 = w3novo\n",
    "w4 = w4novo\n",
    "print(w1)\n",
    "print(w2)\n",
    "print(w3)\n",
    "print(w4)"
   ]
  }
 ],
 "metadata": {
  "kernelspec": {
   "display_name": "Python 3",
   "language": "python",
   "name": "python3"
  },
  "language_info": {
   "codemirror_mode": {
    "name": "ipython",
    "version": 3
   },
   "file_extension": ".py",
   "mimetype": "text/x-python",
   "name": "python",
   "nbconvert_exporter": "python",
   "pygments_lexer": "ipython3",
   "version": "3.12.5"
  }
 },
 "nbformat": 4,
 "nbformat_minor": 2
}
